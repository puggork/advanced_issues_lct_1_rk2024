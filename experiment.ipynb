{
 "cells": [
  {
   "cell_type": "code",
   "execution_count": 1,
   "metadata": {},
   "outputs": [
    {
     "name": "stderr",
     "output_type": "stream",
     "text": [
      "c:\\Users\\Роман\\AppData\\Local\\Programs\\Python\\Python310\\lib\\site-packages\\pkg_resources\\__init__.py:2167: PkgResourcesDeprecationWarning:         ********************************************************************************\n",
      "        `encoding=\"utf-8\"` fails with 'c:\\\\users\\\\роман\\\\appdata\\\\local\\\\programs\\\\python\\\\python310\\\\lib\\\\site-packages\\\\deepspeech-pytorch.egg-link', trying `encoding='locale'`.\n",
      "\n",
      "        This fallback behaviour is considered **deprecated** and future versions of\n",
      "        `setuptools/pkg_resources` may not implement it.\n",
      "\n",
      "        Please encode 'c:\\\\users\\\\роман\\\\appdata\\\\local\\\\programs\\\\python\\\\python310\\\\lib\\\\site-packages\\\\deepspeech-pytorch.egg-link' with \"utf-8\" to ensure future builds will succeed.\n",
      "\n",
      "        If this file was produced by `setuptools` itself, cleaning up the cached files\n",
      "        and re-building/re-installing the package with a newer version of `setuptools`\n",
      "        (e.g. by updating `build-system.requires` in its `pyproject.toml`)\n",
      "        might solve the problem.\n",
      "        ********************************************************************************\n",
      "        \n",
      "  for line in _read_utf8_with_fallback(path).splitlines():\n"
     ]
    }
   ],
   "source": [
    "from benchmark_speech import Benchmark\n",
    "\n",
    "from transcribe_functions import pydub_to_np, transcribe_audio\n",
    "\n",
    "from transformers import Wav2Vec2ForSequenceClassification, Wav2Vec2FeatureExtractor\n",
    "\n",
    "from pydub import AudioSegment\n",
    "\n",
    "from IPython.display import display\n",
    "\n",
    "import pandas as pd\n",
    "import numpy as np\n",
    "\n",
    "from explainers.explanation_speech import ExplanationSpeech\n",
    "\n",
    "from helpers.model_helper_fsc import ModelHelperFSC"
   ]
  },
  {
   "cell_type": "code",
   "execution_count": 2,
   "metadata": {},
   "outputs": [],
   "source": [
    "model = Wav2Vec2ForSequenceClassification.from_pretrained(\n",
    "    \"superb/wav2vec2-base-superb-ic\"\n",
    ")\n",
    "feature_extractor = Wav2Vec2FeatureExtractor.from_pretrained(\n",
    "    \"superb/wav2vec2-base-superb-ic\"\n",
    ")\n",
    "\n",
    "benchmark = Benchmark(model, feature_extractor, device=\"cpu\")"
   ]
  },
  {
   "cell_type": "code",
   "execution_count": 3,
   "metadata": {},
   "outputs": [],
   "source": [
    "AUDIO_PATH = \"./2d7bb170-45e1-11e9-81ce-69b74fd7e64e.wav\"\n",
    "word_transcript = None"
   ]
  },
  {
   "cell_type": "markdown",
   "metadata": {},
   "source": [
    "## Transcript"
   ]
  },
  {
   "cell_type": "code",
   "execution_count": 4,
   "metadata": {},
   "outputs": [
    {
     "name": "stderr",
     "output_type": "stream",
     "text": [
      "Lightning automatically upgraded your loaded checkpoint from v1.5.4 to v2.2.5. To apply the upgrade to your files permanently, run `python -m pytorch_lightning.utilities.upgrade_checkpoint C:\\Users\\Роман\\.cache\\torch\\whisperx-vad-segmentation.bin`\n"
     ]
    },
    {
     "name": "stdout",
     "output_type": "stream",
     "text": [
      "Model was trained with pyannote.audio 0.0.1, yours is 3.1.1. Bad things might happen unless you revert pyannote.audio to 0.x.\n",
      "Model was trained with torch 1.10.0+cu102, yours is 2.0.1+cu117. Bad things might happen unless you revert torch to 1.x.\n"
     ]
    },
    {
     "data": {
      "text/plain": [
       "(' Play the music.',\n",
       " [{'word': 'Play', 'start': 0.536, 'end': 0.739, 'score': 0.738},\n",
       "  {'word': 'the', 'start': 0.78, 'end': 0.861, 'score': 0.832},\n",
       "  {'word': 'music.', 'start': 0.901, 'end': 1.185, 'score': 0.869}])"
      ]
     },
     "execution_count": 4,
     "metadata": {},
     "output_type": "execute_result"
    }
   ],
   "source": [
    "transcript_whisperx = transcribe_audio(audio_path=AUDIO_PATH, language=\"en\")\n",
    "transcript_whisperx"
   ]
  },
  {
   "cell_type": "markdown",
   "metadata": {},
   "source": [
    "## Explanation with \"Leave-One-Out\""
   ]
  },
  {
   "cell_type": "code",
   "execution_count": 5,
   "metadata": {},
   "outputs": [
    {
     "name": "stderr",
     "output_type": "stream",
     "text": [
      "Lightning automatically upgraded your loaded checkpoint from v1.5.4 to v2.2.5. To apply the upgrade to your files permanently, run `python -m pytorch_lightning.utilities.upgrade_checkpoint C:\\Users\\Роман\\.cache\\torch\\whisperx-vad-segmentation.bin`\n"
     ]
    },
    {
     "name": "stdout",
     "output_type": "stream",
     "text": [
      "Model was trained with pyannote.audio 0.0.1, yours is 3.1.1. Bad things might happen unless you revert pyannote.audio to 0.x.\n",
      "Model was trained with torch 1.10.0+cu102, yours is 2.0.1+cu117. Bad things might happen unless you revert torch to 1.x.\n"
     ]
    }
   ],
   "source": [
    "explanation = benchmark.explain(\n",
    "    audio_path=AUDIO_PATH, \n",
    "    methodology='LOO', words_trascript=word_transcript)"
   ]
  },
  {
   "cell_type": "code",
   "execution_count": 6,
   "metadata": {},
   "outputs": [
    {
     "data": {
      "text/html": [
       "<style type=\"text/css\">\n",
       "#T_b1b75_row0_col0 {\n",
       "  background-color: #eed1d3;\n",
       "  color: #000000;\n",
       "}\n",
       "#T_b1b75_row0_col1 {\n",
       "  background-color: #f0e3e3;\n",
       "  color: #000000;\n",
       "}\n",
       "#T_b1b75_row0_col2 {\n",
       "  background-color: #e69298;\n",
       "  color: #f1f1f1;\n",
       "}\n",
       "#T_b1b75_row1_col0, #T_b1b75_row1_col1 {\n",
       "  background-color: #f1f1f2;\n",
       "  color: #000000;\n",
       "}\n",
       "#T_b1b75_row1_col2 {\n",
       "  background-color: #dd545e;\n",
       "  color: #f1f1f1;\n",
       "}\n",
       "#T_b1b75_row2_col0, #T_b1b75_row2_col1, #T_b1b75_row2_col2 {\n",
       "  background-color: #f2f1f1;\n",
       "  color: #000000;\n",
       "}\n",
       "</style>\n",
       "<table id=\"T_b1b75\">\n",
       "  <thead>\n",
       "    <tr>\n",
       "      <th class=\"blank level0\" >&nbsp;</th>\n",
       "      <th id=\"T_b1b75_level0_col0\" class=\"col_heading level0 col0\" >Play</th>\n",
       "      <th id=\"T_b1b75_level0_col1\" class=\"col_heading level0 col1\" >the</th>\n",
       "      <th id=\"T_b1b75_level0_col2\" class=\"col_heading level0 col2\" >music.</th>\n",
       "    </tr>\n",
       "  </thead>\n",
       "  <tbody>\n",
       "    <tr>\n",
       "      <th id=\"T_b1b75_level0_row0\" class=\"row_heading level0 row0\" >action=activate</th>\n",
       "      <td id=\"T_b1b75_row0_col0\" class=\"data row0 col0\" >0.178</td>\n",
       "      <td id=\"T_b1b75_row0_col1\" class=\"data row0 col1\" >0.080</td>\n",
       "      <td id=\"T_b1b75_row0_col2\" class=\"data row0 col2\" >0.519</td>\n",
       "    </tr>\n",
       "    <tr>\n",
       "      <th id=\"T_b1b75_level0_row1\" class=\"row_heading level0 row1\" >object=music</th>\n",
       "      <td id=\"T_b1b75_row1_col0\" class=\"data row1 col0\" >-0.000</td>\n",
       "      <td id=\"T_b1b75_row1_col1\" class=\"data row1 col1\" >-0.000</td>\n",
       "      <td id=\"T_b1b75_row1_col2\" class=\"data row1 col2\" >0.859</td>\n",
       "    </tr>\n",
       "    <tr>\n",
       "      <th id=\"T_b1b75_level0_row2\" class=\"row_heading level0 row2\" >location=none_location</th>\n",
       "      <td id=\"T_b1b75_row2_col0\" class=\"data row2 col0\" >0.000</td>\n",
       "      <td id=\"T_b1b75_row2_col1\" class=\"data row2 col1\" >0.000</td>\n",
       "      <td id=\"T_b1b75_row2_col2\" class=\"data row2 col2\" >0.002</td>\n",
       "    </tr>\n",
       "  </tbody>\n",
       "</table>\n"
      ],
      "text/plain": [
       "<pandas.io.formats.style.Styler at 0x2ca48777820>"
      ]
     },
     "metadata": {},
     "output_type": "display_data"
    }
   ],
   "source": [
    "display(benchmark.show_table(explanation, decimals=3))"
   ]
  },
  {
   "cell_type": "markdown",
   "metadata": {},
   "source": [
    "## Show variation"
   ]
  },
  {
   "cell_type": "code",
   "execution_count": 7,
   "metadata": {},
   "outputs": [],
   "source": [
    "perturbation_types = ['time stretching', 'pitch shifting']\n",
    "variations_table = benchmark.explain_variations(\n",
    "        audio_path=AUDIO_PATH,\n",
    "        perturbation_types=perturbation_types)"
   ]
  },
  {
   "cell_type": "code",
   "execution_count": 8,
   "metadata": {},
   "outputs": [
    {
     "data": {
      "image/png": "[encoded data removed]",
      "text/plain": [
       "<Figure size 460x420 with 3 Axes>"
      ]
     },
     "metadata": {},
     "output_type": "display_data"
    }
   ],
   "source": [
    "variations_table_plot = {k:variations_table[k] for k in variations_table if k in ['time stretching', 'pitch shifting', 'noise']}\n",
    "fig = benchmark.plot_variations(variations_table_plot, show_diff = True, figsize=(4.6, 4.2))\n",
    "fig.savefig(f'variation_LOO_FSC.pdf', bbox_inches='tight')"
   ]
  }
 ],
 "metadata": {
  "kernelspec": {
   "display_name": "Python 3.10.4 64-bit",
   "language": "python",
   "name": "python3"
  },
  "language_info": {
   "codemirror_mode": {
    "name": "ipython",
    "version": 3
   },
   "file_extension": ".py",
   "mimetype": "text/x-python",
   "name": "python",
   "nbconvert_exporter": "python",
   "pygments_lexer": "ipython3",
   "version": "3.10.4"
  },
  "orig_nbformat": 4,
  "vscode": {
   "interpreter": {
    "hash": "50690af00d458ed6e6dafdd3668f35152cdc4d3733577ec53d3c3eefbea77d14"
   }
  }
 },
 "nbformat": 4,
 "nbformat_minor": 2
}
